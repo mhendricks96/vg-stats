{
 "metadata": {
  "language_info": {
   "codemirror_mode": {
    "name": "ipython",
    "version": 3
   },
   "file_extension": ".py",
   "mimetype": "text/x-python",
   "name": "python",
   "nbconvert_exporter": "python",
   "pygments_lexer": "ipython3",
   "version": "3.9.5"
  },
  "orig_nbformat": 2,
  "kernelspec": {
   "name": "python3",
   "display_name": "Python 3.9.5 64-bit ('.venv': venv)",
   "metadata": {
    "interpreter": {
     "hash": "2e7b975fbe6fe029b1715f1e6f15dfd24d7609e73434e99e81dacd1abad1a635"
    }
   }
  }
 },
 "nbformat": 4,
 "nbformat_minor": 2,
 "cells": [
  {
   "source": [
    "### Data Analysis with Panda\n",
    "- Video Game Sales \n",
    "- Michael Hendricks\n",
    "- July 21"
   ],
   "cell_type": "markdown",
   "metadata": {}
  },
  {
   "cell_type": "code",
   "execution_count": 138,
   "metadata": {},
   "outputs": [],
   "source": [
    "import pandas as pd\n",
    "import numpy as np"
   ]
  },
  {
   "cell_type": "code",
   "execution_count": 139,
   "metadata": {},
   "outputs": [],
   "source": [
    "df = pd.read_csv('data/vgsales.csv')"
   ]
  },
  {
   "cell_type": "code",
   "execution_count": 140,
   "metadata": {},
   "outputs": [],
   "source": [
    "pub_counts = df[['Publisher']].value_counts()"
   ]
  },
  {
   "cell_type": "code",
   "execution_count": 141,
   "metadata": {},
   "outputs": [
    {
     "output_type": "execute_result",
     "data": {
      "text/plain": [
       "Publisher                   \n",
       "Electronic Arts                 1351\n",
       "Activision                       975\n",
       "Namco Bandai Games               932\n",
       "Ubisoft                          921\n",
       "Konami Digital Entertainment     832\n",
       "dtype: int64"
      ]
     },
     "metadata": {},
     "execution_count": 141
    }
   ],
   "source": [
    "pub_counts.head()\n"
   ]
  },
  {
   "cell_type": "code",
   "execution_count": 142,
   "metadata": {},
   "outputs": [],
   "source": [
    "most_common_publisher = pub_counts[0]"
   ]
  },
  {
   "source": [
    "### 1. The Most common Video Game Publisher is Electronic arts"
   ],
   "cell_type": "markdown",
   "metadata": {}
  },
  {
   "cell_type": "code",
   "execution_count": 143,
   "metadata": {},
   "outputs": [],
   "source": [
    "plat_counts = df[[\"Platform\"]].value_counts()"
   ]
  },
  {
   "cell_type": "code",
   "execution_count": 144,
   "metadata": {},
   "outputs": [
    {
     "output_type": "execute_result",
     "data": {
      "text/plain": [
       "Platform\n",
       "DS          2163\n",
       "PS2         2161\n",
       "PS3         1329\n",
       "Wii         1325\n",
       "X360        1265\n",
       "dtype: int64"
      ]
     },
     "metadata": {},
     "execution_count": 144
    }
   ],
   "source": [
    "plat_counts.head()"
   ]
  },
  {
   "cell_type": "code",
   "execution_count": 145,
   "metadata": {},
   "outputs": [],
   "source": [
    "most_common_platform = plat_counts[0]"
   ]
  },
  {
   "cell_type": "code",
   "execution_count": 146,
   "metadata": {},
   "outputs": [
    {
     "output_type": "execute_result",
     "data": {
      "text/plain": [
       "2163"
      ]
     },
     "metadata": {},
     "execution_count": 146
    }
   ],
   "source": [
    "most_common_plat"
   ]
  },
  {
   "source": [
    "### 2. The most common platform is DS"
   ],
   "cell_type": "markdown",
   "metadata": {}
  },
  {
   "cell_type": "code",
   "execution_count": 147,
   "metadata": {},
   "outputs": [],
   "source": [
    "genre_counts = df[['Genre']].value_counts()"
   ]
  },
  {
   "cell_type": "code",
   "execution_count": 148,
   "metadata": {},
   "outputs": [
    {
     "output_type": "execute_result",
     "data": {
      "text/plain": [
       "Genre       \n",
       "Action          3316\n",
       "Sports          2346\n",
       "Misc            1739\n",
       "Role-Playing    1488\n",
       "Shooter         1310\n",
       "dtype: int64"
      ]
     },
     "metadata": {},
     "execution_count": 148
    }
   ],
   "source": [
    "genre_counts.head()"
   ]
  },
  {
   "cell_type": "code",
   "execution_count": 149,
   "metadata": {},
   "outputs": [],
   "source": [
    "most_common_genre = genre_counts[0]"
   ]
  },
  {
   "cell_type": "code",
   "execution_count": 150,
   "metadata": {},
   "outputs": [
    {
     "output_type": "execute_result",
     "data": {
      "text/plain": [
       "3316"
      ]
     },
     "metadata": {},
     "execution_count": 150
    }
   ],
   "source": [
    "most_common_genre"
   ]
  },
  {
   "source": [
    "### 3. The most common genre is Action"
   ],
   "cell_type": "markdown",
   "metadata": {}
  },
  {
   "cell_type": "code",
   "execution_count": 151,
   "metadata": {},
   "outputs": [],
   "source": [
    "top_twenty_highest_grossing_games = df[['Name','Global_Sales']]"
   ]
  },
  {
   "source": [
    "### 4. The top 20 highest grossing games are:"
   ],
   "cell_type": "markdown",
   "metadata": {}
  },
  {
   "cell_type": "code",
   "execution_count": 152,
   "metadata": {},
   "outputs": [
    {
     "output_type": "execute_result",
     "data": {
      "text/plain": [
       "                                            Name  Global_Sales\n",
       "0                                     Wii Sports         82.74\n",
       "1                              Super Mario Bros.         40.24\n",
       "2                                 Mario Kart Wii         35.82\n",
       "3                              Wii Sports Resort         33.00\n",
       "4                       Pokemon Red/Pokemon Blue         31.37\n",
       "5                                         Tetris         30.26\n",
       "6                          New Super Mario Bros.         30.01\n",
       "7                                       Wii Play         29.02\n",
       "8                      New Super Mario Bros. Wii         28.62\n",
       "9                                      Duck Hunt         28.31\n",
       "10                                    Nintendogs         24.76\n",
       "11                                 Mario Kart DS         23.42\n",
       "12                   Pokemon Gold/Pokemon Silver         23.10\n",
       "13                                       Wii Fit         22.72\n",
       "14                                  Wii Fit Plus         22.00\n",
       "15                            Kinect Adventures!         21.82\n",
       "16                            Grand Theft Auto V         21.40\n",
       "17                 Grand Theft Auto: San Andreas         20.81\n",
       "18                             Super Mario World         20.61\n",
       "19  Brain Age: Train Your Brain in Minutes a Day         20.22"
      ],
      "text/html": "<div>\n<style scoped>\n    .dataframe tbody tr th:only-of-type {\n        vertical-align: middle;\n    }\n\n    .dataframe tbody tr th {\n        vertical-align: top;\n    }\n\n    .dataframe thead th {\n        text-align: right;\n    }\n</style>\n<table border=\"1\" class=\"dataframe\">\n  <thead>\n    <tr style=\"text-align: right;\">\n      <th></th>\n      <th>Name</th>\n      <th>Global_Sales</th>\n    </tr>\n  </thead>\n  <tbody>\n    <tr>\n      <th>0</th>\n      <td>Wii Sports</td>\n      <td>82.74</td>\n    </tr>\n    <tr>\n      <th>1</th>\n      <td>Super Mario Bros.</td>\n      <td>40.24</td>\n    </tr>\n    <tr>\n      <th>2</th>\n      <td>Mario Kart Wii</td>\n      <td>35.82</td>\n    </tr>\n    <tr>\n      <th>3</th>\n      <td>Wii Sports Resort</td>\n      <td>33.00</td>\n    </tr>\n    <tr>\n      <th>4</th>\n      <td>Pokemon Red/Pokemon Blue</td>\n      <td>31.37</td>\n    </tr>\n    <tr>\n      <th>5</th>\n      <td>Tetris</td>\n      <td>30.26</td>\n    </tr>\n    <tr>\n      <th>6</th>\n      <td>New Super Mario Bros.</td>\n      <td>30.01</td>\n    </tr>\n    <tr>\n      <th>7</th>\n      <td>Wii Play</td>\n      <td>29.02</td>\n    </tr>\n    <tr>\n      <th>8</th>\n      <td>New Super Mario Bros. Wii</td>\n      <td>28.62</td>\n    </tr>\n    <tr>\n      <th>9</th>\n      <td>Duck Hunt</td>\n      <td>28.31</td>\n    </tr>\n    <tr>\n      <th>10</th>\n      <td>Nintendogs</td>\n      <td>24.76</td>\n    </tr>\n    <tr>\n      <th>11</th>\n      <td>Mario Kart DS</td>\n      <td>23.42</td>\n    </tr>\n    <tr>\n      <th>12</th>\n      <td>Pokemon Gold/Pokemon Silver</td>\n      <td>23.10</td>\n    </tr>\n    <tr>\n      <th>13</th>\n      <td>Wii Fit</td>\n      <td>22.72</td>\n    </tr>\n    <tr>\n      <th>14</th>\n      <td>Wii Fit Plus</td>\n      <td>22.00</td>\n    </tr>\n    <tr>\n      <th>15</th>\n      <td>Kinect Adventures!</td>\n      <td>21.82</td>\n    </tr>\n    <tr>\n      <th>16</th>\n      <td>Grand Theft Auto V</td>\n      <td>21.40</td>\n    </tr>\n    <tr>\n      <th>17</th>\n      <td>Grand Theft Auto: San Andreas</td>\n      <td>20.81</td>\n    </tr>\n    <tr>\n      <th>18</th>\n      <td>Super Mario World</td>\n      <td>20.61</td>\n    </tr>\n    <tr>\n      <th>19</th>\n      <td>Brain Age: Train Your Brain in Minutes a Day</td>\n      <td>20.22</td>\n    </tr>\n  </tbody>\n</table>\n</div>"
     },
     "metadata": {},
     "execution_count": 152
    }
   ],
   "source": [
    "top_twenty_highest_grossing_games.head(20)"
   ]
  },
  {
   "cell_type": "code",
   "execution_count": 153,
   "metadata": {},
   "outputs": [],
   "source": [
    "name_NA_only = df[['Name','NA_Sales']]"
   ]
  },
  {
   "cell_type": "code",
   "execution_count": 154,
   "metadata": {},
   "outputs": [],
   "source": [
    "na_median_sales = name_NA_only.median()"
   ]
  },
  {
   "cell_type": "code",
   "execution_count": 155,
   "metadata": {},
   "outputs": [
    {
     "output_type": "execute_result",
     "data": {
      "text/plain": [
       "0.08"
      ]
     },
     "metadata": {},
     "execution_count": 155
    }
   ],
   "source": [
    "na_median_sales[0]"
   ]
  },
  {
   "cell_type": "code",
   "execution_count": 156,
   "metadata": {},
   "outputs": [
    {
     "output_type": "execute_result",
     "data": {
      "text/plain": [
       "                                       Name  NA_Sales\n",
       "8941                              Galerians      0.08\n",
       "8939   Disney's Donald Duck: Goin' Quackers      0.08\n",
       "8936                        Toy Story Racer      0.08\n",
       "8931                   Kung-Fu: High Impact      0.08\n",
       "8900                           Cardinal Syn      0.08\n",
       "8887                         Chessmaster II      0.08\n",
       "8869            T'ai Fu: Wrath of the Tiger      0.08\n",
       "8860                 Mirror's Edge Catalyst      0.08\n",
       "8826                       FIFA Soccer 2002      0.08\n",
       "11492          Ultimate Shooting Collection      0.08"
      ],
      "text/html": "<div>\n<style scoped>\n    .dataframe tbody tr th:only-of-type {\n        vertical-align: middle;\n    }\n\n    .dataframe tbody tr th {\n        vertical-align: top;\n    }\n\n    .dataframe thead th {\n        text-align: right;\n    }\n</style>\n<table border=\"1\" class=\"dataframe\">\n  <thead>\n    <tr style=\"text-align: right;\">\n      <th></th>\n      <th>Name</th>\n      <th>NA_Sales</th>\n    </tr>\n  </thead>\n  <tbody>\n    <tr>\n      <th>8941</th>\n      <td>Galerians</td>\n      <td>0.08</td>\n    </tr>\n    <tr>\n      <th>8939</th>\n      <td>Disney's Donald Duck: Goin' Quackers</td>\n      <td>0.08</td>\n    </tr>\n    <tr>\n      <th>8936</th>\n      <td>Toy Story Racer</td>\n      <td>0.08</td>\n    </tr>\n    <tr>\n      <th>8931</th>\n      <td>Kung-Fu: High Impact</td>\n      <td>0.08</td>\n    </tr>\n    <tr>\n      <th>8900</th>\n      <td>Cardinal Syn</td>\n      <td>0.08</td>\n    </tr>\n    <tr>\n      <th>8887</th>\n      <td>Chessmaster II</td>\n      <td>0.08</td>\n    </tr>\n    <tr>\n      <th>8869</th>\n      <td>T'ai Fu: Wrath of the Tiger</td>\n      <td>0.08</td>\n    </tr>\n    <tr>\n      <th>8860</th>\n      <td>Mirror's Edge Catalyst</td>\n      <td>0.08</td>\n    </tr>\n    <tr>\n      <th>8826</th>\n      <td>FIFA Soccer 2002</td>\n      <td>0.08</td>\n    </tr>\n    <tr>\n      <th>11492</th>\n      <td>Ultimate Shooting Collection</td>\n      <td>0.08</td>\n    </tr>\n  </tbody>\n</table>\n</div>"
     },
     "metadata": {},
     "execution_count": 156
    }
   ],
   "source": [
    "df[df['NA_Sales'] == 0.08][['Name','NA_Sales']].sort_values('NA_Sales').tail(10)"
   ]
  },
  {
   "source": [
    "### 5. For North American video game sales, the median is 0.08 million"
   ],
   "cell_type": "markdown",
   "metadata": {}
  },
  {
   "cell_type": "code",
   "execution_count": 157,
   "metadata": {},
   "outputs": [],
   "source": [
    "standard_dev = df[['NA_Sales']].std()"
   ]
  },
  {
   "cell_type": "code",
   "execution_count": 158,
   "metadata": {},
   "outputs": [
    {
     "output_type": "execute_result",
     "data": {
      "text/plain": [
       "0.8166830292988796"
      ]
     },
     "metadata": {},
     "execution_count": 158
    }
   ],
   "source": [
    "standard_dev[0]"
   ]
  },
  {
   "source": [
    "### 6. The Highest selling video game of all time is 0.8166 standard deviations above the mean"
   ],
   "cell_type": "markdown",
   "metadata": {}
  },
  {
   "cell_type": "code",
   "execution_count": 159,
   "metadata": {},
   "outputs": [],
   "source": [
    "#df[df['Platform'] == 'Wii'][['Name','Platform','Global_Sales']].sort_values('Global_Sales')"
   ]
  },
  {
   "cell_type": "code",
   "execution_count": 160,
   "metadata": {},
   "outputs": [],
   "source": [
    "wii_games = df[df['Platform'] == 'Wii'][['Name','Platform','Global_Sales']].sort_values('Global_Sales')"
   ]
  },
  {
   "cell_type": "code",
   "execution_count": 161,
   "metadata": {},
   "outputs": [],
   "source": [
    "#df[df['Platform'] != 'Wii'][['Name','Platform','Global_Sales']].sort_values('Global_Sales')"
   ]
  },
  {
   "cell_type": "code",
   "execution_count": 162,
   "metadata": {},
   "outputs": [],
   "source": [
    "non_wii_games = df[df['Platform'] != 'Wii'][['Name','Platform','Global_Sales']].sort_values('Global_Sales')"
   ]
  },
  {
   "cell_type": "code",
   "execution_count": 163,
   "metadata": {},
   "outputs": [
    {
     "output_type": "execute_result",
     "data": {
      "text/plain": [
       "Global_Sales    0.699404\n",
       "dtype: float64"
      ]
     },
     "metadata": {},
     "execution_count": 163
    }
   ],
   "source": [
    "wii_games.mean()"
   ]
  },
  {
   "cell_type": "code",
   "execution_count": 164,
   "metadata": {},
   "outputs": [
    {
     "output_type": "execute_result",
     "data": {
      "text/plain": [
       "Global_Sales    0.52339\n",
       "dtype: float64"
      ]
     },
     "metadata": {},
     "execution_count": 164
    }
   ],
   "source": [
    "non_wii_games.mean()"
   ]
  },
  {
   "source": [
    "### 7. Wii games averages 0.699404 million sold per game compared to only 0.52339 million for other platforms"
   ],
   "cell_type": "markdown",
   "metadata": {}
  },
  {
   "cell_type": "code",
   "execution_count": 165,
   "metadata": {},
   "outputs": [
    {
     "output_type": "execute_result",
     "data": {
      "text/plain": [
       "Year    1980.0\n",
       "dtype: float64"
      ]
     },
     "metadata": {},
     "execution_count": 165
    }
   ],
   "source": [
    "df[['Year']].min()"
   ]
  },
  {
   "cell_type": "code",
   "execution_count": 166,
   "metadata": {},
   "outputs": [
    {
     "output_type": "execute_result",
     "data": {
      "text/plain": [
       "                 Name    Year\n",
       "258         Asteroids  1980.0\n",
       "544   Missile Command  1980.0\n",
       "1766          Kaboom!  1980.0\n",
       "1969         Defender  1980.0\n",
       "2669           Boxing  1980.0\n",
       "4025       Ice Hockey  1980.0\n",
       "5366          Freeway  1980.0\n",
       "6317           Bridge  1980.0\n",
       "6896         Checkers  1980.0"
      ],
      "text/html": "<div>\n<style scoped>\n    .dataframe tbody tr th:only-of-type {\n        vertical-align: middle;\n    }\n\n    .dataframe tbody tr th {\n        vertical-align: top;\n    }\n\n    .dataframe thead th {\n        text-align: right;\n    }\n</style>\n<table border=\"1\" class=\"dataframe\">\n  <thead>\n    <tr style=\"text-align: right;\">\n      <th></th>\n      <th>Name</th>\n      <th>Year</th>\n    </tr>\n  </thead>\n  <tbody>\n    <tr>\n      <th>258</th>\n      <td>Asteroids</td>\n      <td>1980.0</td>\n    </tr>\n    <tr>\n      <th>544</th>\n      <td>Missile Command</td>\n      <td>1980.0</td>\n    </tr>\n    <tr>\n      <th>1766</th>\n      <td>Kaboom!</td>\n      <td>1980.0</td>\n    </tr>\n    <tr>\n      <th>1969</th>\n      <td>Defender</td>\n      <td>1980.0</td>\n    </tr>\n    <tr>\n      <th>2669</th>\n      <td>Boxing</td>\n      <td>1980.0</td>\n    </tr>\n    <tr>\n      <th>4025</th>\n      <td>Ice Hockey</td>\n      <td>1980.0</td>\n    </tr>\n    <tr>\n      <th>5366</th>\n      <td>Freeway</td>\n      <td>1980.0</td>\n    </tr>\n    <tr>\n      <th>6317</th>\n      <td>Bridge</td>\n      <td>1980.0</td>\n    </tr>\n    <tr>\n      <th>6896</th>\n      <td>Checkers</td>\n      <td>1980.0</td>\n    </tr>\n  </tbody>\n</table>\n</div>"
     },
     "metadata": {},
     "execution_count": 166
    }
   ],
   "source": [
    "df[df['Year'] == 1980.0][['Name','Year']].sort_values('Year')"
   ]
  },
  {
   "source": [
    "### 8. The first 9 video games came out in 1980"
   ],
   "cell_type": "markdown",
   "metadata": {}
  },
  {
   "cell_type": "code",
   "execution_count": 167,
   "metadata": {},
   "outputs": [
    {
     "output_type": "execute_result",
     "data": {
      "text/plain": [
       "Name    Woody Woodpecker in Crazy Castle 5\n",
       "Year                                2005.0\n",
       "dtype: object"
      ]
     },
     "metadata": {},
     "execution_count": 167
    }
   ],
   "source": [
    "df[df['Publisher'] == 'Kemco'][['Name','Year']].sort_values('Year').max()"
   ]
  },
  {
   "source": [
    "### 9. The Last Kemco game was published in 2005"
   ],
   "cell_type": "markdown",
   "metadata": {}
  },
  {
   "cell_type": "code",
   "execution_count": 168,
   "metadata": {},
   "outputs": [],
   "source": [
    "name_global_genre = df[['Name','Global_Sales','Genre']]"
   ]
  },
  {
   "source": [
    "### 10. Tetris is the only 'Puzzle' game in the top 20 grossing games"
   ],
   "cell_type": "markdown",
   "metadata": {}
  },
  {
   "cell_type": "code",
   "execution_count": 169,
   "metadata": {},
   "outputs": [],
   "source": [
    " def tests():   \n",
    "    def assert_equal(actual,expected):\n",
    "        assert actual == expected, f\"Expected {expected} but got {actual}\"\n",
    "\n",
    "    assert_equal(most_common_publisher, pub_counts[0])\n",
    "    assert_equal(most_common_platform, plat_counts[0])\n",
    "    assert_equal(most_common_genre, genre_counts[0])\n",
    "    assert_equal(top_twenty_highest_grossing_games.iloc[0].Name, 'Wii Sports')\n",
    "    assert_equal(top_twenty_highest_grossing_games.iloc[19].Name, 'Brain Age: Train Your Brain in Minutes a Day')\n",
    "    assert_equal(na_median_sales[0], 0.08)\n",
    "    assert_equal(standard_dev[0], 0.8166830292988796\n",
    ")\n",
    "    assert_equal( wii_games.mean()[0] > non_wii_games.mean()[0],True)\n",
    "\n",
    "    print(\"Success!!\")"
   ]
  },
  {
   "cell_type": "code",
   "execution_count": 170,
   "metadata": {},
   "outputs": [
    {
     "output_type": "stream",
     "name": "stdout",
     "text": [
      "Success!!!\n"
     ]
    }
   ],
   "source": [
    "tests()"
   ]
  },
  {
   "cell_type": "code",
   "execution_count": null,
   "metadata": {},
   "outputs": [],
   "source": []
  }
 ]
}